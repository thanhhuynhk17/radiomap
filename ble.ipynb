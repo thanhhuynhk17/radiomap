{
 "cells": [
  {
   "cell_type": "code",
   "execution_count": 14,
   "metadata": {},
   "outputs": [
    {
     "ename": "ModuleNotFoundError",
     "evalue": "No module named 'bluepy'",
     "output_type": "error",
     "traceback": [
      "\u001b[1;31m---------------------------------------------------------------------------\u001b[0m",
      "\u001b[1;31mModuleNotFoundError\u001b[0m                       Traceback (most recent call last)",
      "Cell \u001b[1;32mIn [14], line 1\u001b[0m\n\u001b[1;32m----> 1\u001b[0m \u001b[39mfrom\u001b[39;00m \u001b[39mbluepy\u001b[39;00m\u001b[39m.\u001b[39;00m\u001b[39mbtle\u001b[39;00m \u001b[39mimport\u001b[39;00m Scanner\n\u001b[0;32m      3\u001b[0m \u001b[39mwhile\u001b[39;00m \u001b[39mTrue\u001b[39;00m:\n\u001b[0;32m      4\u001b[0m     \u001b[39mtry\u001b[39;00m:\n\u001b[0;32m      5\u001b[0m         \u001b[39m#10.0 sec scanning\u001b[39;00m\n",
      "\u001b[1;31mModuleNotFoundError\u001b[0m: No module named 'bluepy'"
     ]
    }
   ],
   "source": [
    "from bluepy.btle import Scanner\n",
    "\n",
    "while True:\n",
    "    try:\n",
    "        #10.0 sec scanning\n",
    "        ble_list = Scanner().scan(10.0)\n",
    "        for dev in ble_list:\n",
    "            print(\"rssi: {} ; mac: {}\".format(dev.rssi,dev.addr))\n",
    "    except:\n",
    "        raise Exception(\"Error occured\")\n",
    "   "
   ]
  },
  {
   "cell_type": "code",
   "execution_count": null,
   "metadata": {},
   "outputs": [],
   "source": []
  }
 ],
 "metadata": {
  "kernelspec": {
   "display_name": "Python 3.8.13 ('radiomap')",
   "language": "python",
   "name": "python3"
  },
  "language_info": {
   "codemirror_mode": {
    "name": "ipython",
    "version": 3
   },
   "file_extension": ".py",
   "mimetype": "text/x-python",
   "name": "python",
   "nbconvert_exporter": "python",
   "pygments_lexer": "ipython3",
   "version": "3.8.13"
  },
  "orig_nbformat": 4,
  "vscode": {
   "interpreter": {
    "hash": "687f4cf41ca2260fbe6dd618ef75ea40496f265b1ba831e6dcf63984c64749e3"
   }
  }
 },
 "nbformat": 4,
 "nbformat_minor": 2
}
